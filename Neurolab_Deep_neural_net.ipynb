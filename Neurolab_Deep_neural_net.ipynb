{
 "cells": [
  {
   "cell_type": "code",
   "execution_count": 1,
   "metadata": {
    "collapsed": true
   },
   "outputs": [],
   "source": [
    "import neurolab as nl\n",
    "import numpy as np\n",
    "import matplotlib.pyplot as plt"
   ]
  },
  {
   "cell_type": "code",
   "execution_count": 2,
   "metadata": {
    "collapsed": true
   },
   "outputs": [],
   "source": [
    "# Generate training data\n",
    "min_value = -12\n",
    "max_value = 12\n",
    "num_datapoints = 90"
   ]
  },
  {
   "cell_type": "code",
   "execution_count": 3,
   "metadata": {},
   "outputs": [],
   "source": [
    "x = np.linspace(min_value, max_value, num_datapoints)\n",
    "y = 2 * np.square(x) + 7"
   ]
  },
  {
   "cell_type": "code",
   "execution_count": 4,
   "metadata": {},
   "outputs": [],
   "source": [
    "y /= np.linalg.norm(y)"
   ]
  },
  {
   "cell_type": "code",
   "execution_count": 5,
   "metadata": {},
   "outputs": [],
   "source": [
    "#reshaping the arrays\n",
    "data = x.reshape(num_datapoints, 1)\n",
    "labels = y.reshape(num_datapoints, 1)"
   ]
  },
  {
   "cell_type": "code",
   "execution_count": 6,
   "metadata": {
    "scrolled": true
   },
   "outputs": [
    {
     "data": {
      "image/png": "[encoded data removed]",
      "text/plain": [
       "<matplotlib.figure.Figure at 0x109ab7208>"
      ]
     },
     "metadata": {},
     "output_type": "display_data"
    }
   ],
   "source": [
    "# Plot input data\n",
    "plt.figure()\n",
    "plt.scatter(data, labels)\n",
    "plt.xlabel('X-axis')   \n",
    "plt.ylabel('Y-axis')\n",
    "plt.title('Input data')\n",
    "plt.show()"
   ]
  },
  {
   "cell_type": "code",
   "execution_count": 7,
   "metadata": {
    "collapsed": true
   },
   "outputs": [],
   "source": [
    "# Define a multilayer neural network with 2 hidden layers;\n",
    "# Each hidden layer consists of 10 neurons and the output layer\n",
    "# consists of 1 neuron\n",
    "multilayer_net = nl.net.newff([[min_value, max_value]], [10, 10, 1])"
   ]
  },
  {
   "cell_type": "code",
   "execution_count": 8,
   "metadata": {
    "collapsed": true
   },
   "outputs": [],
   "source": [
    "# Change the training algorithm to gradient descent\n",
    "multilayer_net.trainf = nl.train.train_gd"
   ]
  },
  {
   "cell_type": "code",
   "execution_count": 9,
   "metadata": {},
   "outputs": [
    {
     "name": "stdout",
     "output_type": "stream",
     "text": [
      "Epoch: 100; Error: 2.200048652559676;\n",
      "Epoch: 200; Error: 0.09486945794275649;\n",
      "Epoch: 300; Error: 0.24925338528600582;\n",
      "Epoch: 400; Error: 0.01703817015750583;\n",
      "The goal of learning is reached\n"
     ]
    }
   ],
   "source": [
    "# Train the network\n",
    "error = multilayer_net.train(data, labels, epochs=800, show=100, goal=0.01)"
   ]
  },
  {
   "cell_type": "code",
   "execution_count": 10,
   "metadata": {
    "collapsed": true
   },
   "outputs": [],
   "source": [
    "# Predict the output for the training inputs\n",
    "predicted_output = multilayer_net.sim(data)"
   ]
  },
  {
   "cell_type": "code",
   "execution_count": 11,
   "metadata": {
    "scrolled": true
   },
   "outputs": [
    {
     "data": {
      "text/plain": [
       "array([[0.18329038],\n",
       "       [0.18372358],\n",
       "       [0.18394876],\n",
       "       [0.18405552],\n",
       "       [0.18408039],\n",
       "       [0.18402489],\n",
       "       [0.18385342],\n",
       "       [0.18346794],\n",
       "       [0.18263678],\n",
       "       [0.18081692],\n",
       "       [0.17677998],\n",
       "       [0.16819876],\n",
       "       [0.15254163],\n",
       "       [0.13094823],\n",
       "       [0.10979014],\n",
       "       [0.09431473],\n",
       "       [0.08494778],\n",
       "       [0.07991133],\n",
       "       [0.07756555],\n",
       "       [0.07697097],\n",
       "       [0.0777767 ],\n",
       "       [0.07989822],\n",
       "       [0.08278546],\n",
       "       [0.08422623],\n",
       "       [0.08016542],\n",
       "       [0.06784561],\n",
       "       [0.05026373],\n",
       "       [0.03377187],\n",
       "       [0.02361397],\n",
       "       [0.0214028 ],\n",
       "       [0.02420729],\n",
       "       [0.02818944],\n",
       "       [0.03138023],\n",
       "       [0.0333197 ],\n",
       "       [0.03405469],\n",
       "       [0.03357203],\n",
       "       [0.03153559],\n",
       "       [0.02721054],\n",
       "       [0.0199785 ],\n",
       "       [0.01107792],\n",
       "       [0.00452001],\n",
       "       [0.00333277],\n",
       "       [0.00620167],\n",
       "       [0.01008707],\n",
       "       [0.01324258],\n",
       "       [0.01530804],\n",
       "       [0.01647455],\n",
       "       [0.0170008 ],\n",
       "       [0.01703923],\n",
       "       [0.01656284],\n",
       "       [0.01557937],\n",
       "       [0.01441646],\n",
       "       [0.01343967],\n",
       "       [0.01283424],\n",
       "       [0.01268472],\n",
       "       [0.01318876],\n",
       "       [0.01501815],\n",
       "       [0.01952187],\n",
       "       [0.02719314],\n",
       "       [0.03549898],\n",
       "       [0.04133347],\n",
       "       [0.04378699],\n",
       "       [0.04348491],\n",
       "       [0.04239854],\n",
       "       [0.04422003],\n",
       "       [0.05023128],\n",
       "       [0.05658714],\n",
       "       [0.06095854],\n",
       "       [0.06408728],\n",
       "       [0.06746086],\n",
       "       [0.07259501],\n",
       "       [0.08064037],\n",
       "       [0.0910956 ],\n",
       "       [0.10127648],\n",
       "       [0.10896286],\n",
       "       [0.11427212],\n",
       "       [0.11863405],\n",
       "       [0.12394554],\n",
       "       [0.13235718],\n",
       "       [0.14531988],\n",
       "       [0.16103343],\n",
       "       [0.17442427],\n",
       "       [0.18265136],\n",
       "       [0.18678853],\n",
       "       [0.18870946],\n",
       "       [0.18958449],\n",
       "       [0.18998283],\n",
       "       [0.19016457],\n",
       "       [0.19024763],\n",
       "       [0.19028562]])"
      ]
     },
     "execution_count": 11,
     "metadata": {},
     "output_type": "execute_result"
    }
   ],
   "source": [
    "#training accuray\n",
    "predicted_output"
   ]
  },
  {
   "cell_type": "code",
   "execution_count": 12,
   "metadata": {},
   "outputs": [
    {
     "data": {
      "image/png": "[encoded data removed]",
      "text/plain": [
       "<matplotlib.figure.Figure at 0x109ac4b00>"
      ]
     },
     "metadata": {},
     "output_type": "display_data"
    }
   ],
   "source": [
    "# Plot training error\n",
    "plt.figure()\n",
    "plt.plot(error)\n",
    "plt.xlabel('Number of epochs')\n",
    "plt.ylabel('Error')\n",
    "plt.title('Training error progress')\n",
    "plt.show()"
   ]
  },
  {
   "cell_type": "code",
   "execution_count": 13,
   "metadata": {
    "collapsed": true
   },
   "outputs": [],
   "source": [
    "# Calculate predictions for new set of data values\n",
    "x2 = np.linspace(min_value, max_value, num_datapoints * 2)\n",
    "y2 = multilayer_net.sim(x2.reshape(x2.size,1)).reshape(x2.size)\n",
    "#reshape predicted_output to show bothe the training and testing predictions on same graph\n",
    "y3 = predicted_output.reshape(num_datapoints) "
   ]
  },
  {
   "cell_type": "code",
   "execution_count": 14,
   "metadata": {},
   "outputs": [
    {
     "data": {
      "image/png": "[encoded data removed]",
      "text/plain": [
       "<matplotlib.figure.Figure at 0x109ba7f60>"
      ]
     },
     "metadata": {},
     "output_type": "display_data"
    }
   ],
   "source": [
    "#plotting graph\n",
    "plt.figure()\n",
    "plt.plot(x2, y2, '-', x, y, '.', x, y3, 'p')\n",
    "plt.title('Ground truth vs predicted output')\n",
    "plt.show()"
   ]
  },
  {
   "cell_type": "code",
   "execution_count": null,
   "metadata": {
    "collapsed": true
   },
   "outputs": [],
   "source": []
  }
 ],
 "metadata": {
  "kernelspec": {
   "display_name": "Python 3",
   "language": "python",
   "name": "python3"
  },
  "language_info": {
   "codemirror_mode": {
    "name": "ipython",
    "version": 3
   },
   "file_extension": ".py",
   "mimetype": "text/x-python",
   "name": "python",
   "nbconvert_exporter": "python",
   "pygments_lexer": "ipython3",
   "version": "3.6.1"
  }
 },
 "nbformat": 4,
 "nbformat_minor": 2
}
